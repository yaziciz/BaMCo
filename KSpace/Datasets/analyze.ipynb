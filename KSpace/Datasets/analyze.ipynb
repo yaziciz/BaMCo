{
 "cells": [
  {
   "cell_type": "code",
   "execution_count": 18,
   "metadata": {},
   "outputs": [],
   "source": [
    "#for each item in json, count the unique number of head_entity and tail_entity\n",
    "import json\n",
    "import os\n",
    "import sys\n",
    "\n",
    "def count_entities(data):\n",
    "    with open(data) as f:\n",
    "        data = json.load(f)\n",
    "        head_entities = []\n",
    "        tail_entities = []\n",
    "        images = []\n",
    "        relations = []\n",
    "        for item in data:\n",
    "            head_entities.append(item['head_entity'])\n",
    "            tail_entities.append(item['tail_entity'])\n",
    "            images.append(item['image'])\n",
    "            relations.append(item['relation'])\n",
    "        head_entities = list(set(head_entities))\n",
    "        tail_entities = list(set(tail_entities))\n",
    "        images = list(set(images))\n",
    "        relations = list(set(relations))\n",
    "        print(\"Number of unique head entities: \", len(head_entities))\n",
    "        print(\"Number of unique tail entities: \", len(tail_entities))\n",
    "        print(\"Total number of images: \", len(images))\n",
    "        print(\"Number of unique relations: \", len(relations))\n",
    "        print(\"Total number of entities: \", len(data))"
   ]
  },
  {
   "cell_type": "code",
   "execution_count": null,
   "metadata": {},
   "outputs": [
    {
     "name": "stdout",
     "output_type": "stream",
     "text": [
      "Number of unique head entities:  1450\n",
      "Number of unique tail entities:  8438\n",
      "Total number of images:  3687\n",
      "Number of unique relations:  113\n",
      "Total number of entities:  64599\n"
     ]
    }
   ],
   "source": [
    "count_entities(\"BaMCo/KSpace/Datasets/PathVQA/KG_PathVQA_Train.json\")"
   ]
  },
  {
   "cell_type": "code",
   "execution_count": null,
   "metadata": {},
   "outputs": [
    {
     "name": "stdout",
     "output_type": "stream",
     "text": [
      "Number of unique head entities:  28\n",
      "Number of unique tail entities:  164\n",
      "Total number of images:  383\n",
      "Number of unique relations:  24\n",
      "Total number of entities:  8387\n"
     ]
    }
   ],
   "source": [
    "count_entities(\"BaMCo/KSpace/Datasets/Slake1.0/KG_SLAKE_Train.json\")"
   ]
  },
  {
   "cell_type": "code",
   "execution_count": null,
   "metadata": {},
   "outputs": [
    {
     "name": "stdout",
     "output_type": "stream",
     "text": [
      "Number of unique head entities:  285\n",
      "Number of unique tail entities:  1672\n",
      "Total number of images:  534\n",
      "Number of unique relations:  73\n",
      "Total number of entities:  4008\n"
     ]
    }
   ],
   "source": [
    "count_entities(\"BaMCo/KSpace/Datasets/VQARAD/KG_VQARAD_Train.json\")"
   ]
  },
  {
   "cell_type": "code",
   "execution_count": null,
   "metadata": {},
   "outputs": [],
   "source": []
  }
 ],
 "metadata": {
  "kernelspec": {
   "display_name": "Med",
   "language": "python",
   "name": "python3"
  },
  "language_info": {
   "codemirror_mode": {
    "name": "ipython",
    "version": 3
   },
   "file_extension": ".py",
   "mimetype": "text/x-python",
   "name": "python",
   "nbconvert_exporter": "python",
   "pygments_lexer": "ipython3",
   "version": "3.10.12"
  }
 },
 "nbformat": 4,
 "nbformat_minor": 2
}
